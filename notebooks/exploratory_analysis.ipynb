{
 "cells": [
  {
   "cell_type": "markdown",
   "id": "079f08fc",
   "metadata": {},
   "source": [
    "# Exploratory Data Analysis\n",
    "\n",
    "[Introduction]"
   ]
  },
  {
   "cell_type": "markdown",
   "id": "a128806e",
   "metadata": {},
   "source": [
    "## Imports\n",
    "\n",
    "The following code imports the necessary libraries for this notebook:\n"
   ]
  },
  {
   "cell_type": "code",
   "execution_count": 173,
   "id": "ff9e9ae9",
   "metadata": {},
   "outputs": [],
   "source": [
    "import polars as pl\n",
    "\n",
    "from datetime import datetime"
   ]
  },
  {
   "cell_type": "markdown",
   "id": "6e8cb7c7",
   "metadata": {},
   "source": [
    "## Dataset\n",
    "\n",
    "The dataset used in this work contains information about the energy consumption, measured in kilowatt-hours (kWh), of 499 anonymized customers located in Spain. The dataset covers the full year of 2019, with observations recorded every hour. In addition to energy consumption, weather data are also provided, specifically the outside temperature in the region of each customer, with the same hourly resolution. Furthermore, each customer is assigned to one of 68 predefined customer profiles, such as private households, restaurants, or factories, allowing for segmentation and analysis based on these categories. \n",
    "\n",
    "The dataset is publicly available at [https://fordatis.fraunhofer.de/handle/fordatis/215](https://fordatis.fraunhofer.de/handle/fordatis/215).\n",
    "\n",
    "The data is provided in three separate files: \n",
    "- `consumption.xlsx`, which contains the energy consumption data for the 499 customers. This file includes a `date` column with hourly timestamps and a column for each customer identifier, representing the energy consumption for that hour.\n",
    "- `weather.xlsx`, which includes the hourly weather data (temperature) for the region of each customer. It also contains a `date` column with hourly timestamps and a column for each customer identifier, representing the temperature for that hour.\n",
    "- `profiles.xlsx`, which contains information about the 68 predefined customer profiles. This file includes a column for the customer identifiers and another column specifying the associated activity, which defines the customer profile.\n",
    "\n",
    "The first few rows of each file are displayed below to provide an overview of their structure:\n"
   ]
  },
  {
   "cell_type": "code",
   "execution_count": 174,
   "id": "ba97073e",
   "metadata": {},
   "outputs": [
    {
     "name": "stdout",
     "output_type": "stream",
     "text": [
      "First 5 rows of consumption dataset:\n"
     ]
    },
    {
     "data": {
      "text/html": [
       "<div><style>\n",
       ".dataframe > thead > tr,\n",
       ".dataframe > tbody > tr {\n",
       "  text-align: right;\n",
       "  white-space: pre-wrap;\n",
       "}\n",
       "</style>\n",
       "<small>shape: (5, 500)</small><table border=\"1\" class=\"dataframe\"><thead><tr><th>date</th><th>5d6fcd1cf44b0324bc6b7254</th><th>5d6fcd1cf44b0324bc6b7257</th><th>5d6fcd1cf44b0324bc6b725a</th><th>5d6fcd1cf44b0324bc6b725d</th><th>5d6fcd1df44b0324bc6b7260</th><th>5d6fcd1df44b0324bc6b726b</th><th>5d6fcd1df44b0324bc6b7271</th><th>5d6fcd1df44b0324bc6b7274</th><th>5d6fcd1ef44b0324bc6b727a</th><th>5d6fcd1ef44b0324bc6b727c</th><th>5d6fcd1ef44b0324bc6b7289</th><th>5d6fcd1ef44b0324bc6b728b</th><th>5d6fcd1ff44b0324bc6b728d</th><th>5d6fcd1ff44b0324bc6b7293</th><th>5d6fcd1ff44b0324bc6b7296</th><th>5d6fcd1ff44b0324bc6b7299</th><th>5d6fcd1ff44b0324bc6b729b</th><th>5d6fcd1ff44b0324bc6b729e</th><th>5d6fcd20f44b0324bc6b72a4</th><th>5d6fcd20f44b0324bc6b72aa</th><th>5d6fcd20f44b0324bc6b72b0</th><th>5d6fcd20f44b0324bc6b72b6</th><th>5d6fcd21f44b0324bc6b72bc</th><th>5d6fcd21f44b0324bc6b72bf</th><th>5d6fcdddf44b0324bc6b815b</th><th>5d6fcdddf44b0324bc6b815c</th><th>5d6fcd21f44b0324bc6b72c5</th><th>5d6fcd22f44b0324bc6b72dd</th><th>5d6fcd23f44b0324bc6b72e7</th><th>5d6fcd23f44b0324bc6b72ed</th><th>5d6fcd23f44b0324bc6b72f3</th><th>5d6fcd23f44b0324bc6b72f6</th><th>5d6fcd23f44b0324bc6b72fa</th><th>5d6fcd24f44b0324bc6b72fd</th><th>5d6fcd24f44b0324bc6b7302</th><th>5d6fcd25f44b0324bc6b7313</th><th>&hellip;</th><th>5d6fcd79f44b0324bc6b79a8</th><th>5d6fcd79f44b0324bc6b79ae</th><th>5d6fcd79f44b0324bc6b79b1</th><th>5d6fcd7bf44b0324bc6b79c2</th><th>5d6fcd7bf44b0324bc6b79c1</th><th>5d6fcd7bf44b0324bc6b79c0</th><th>5d6fcd7af44b0324bc6b79bf</th><th>5d6fcd79f44b0324bc6b79b6</th><th>5d6fcd7af44b0324bc6b79be</th><th>5d6fcd7af44b0324bc6b79bd</th><th>5d6fcd7af44b0324bc6b79bc</th><th>5d6fcd7af44b0324bc6b79bb</th><th>5d6fcd7af44b0324bc6b79ba</th><th>5d6fcd7af44b0324bc6b79b9</th><th>5d6fcd79f44b0324bc6b79b5</th><th>5d6fcd7af44b0324bc6b79b8</th><th>5d6fcd79f44b0324bc6b79b7</th><th>5d6fcd7bf44b0324bc6b79c5</th><th>5d6fcd7bf44b0324bc6b79c7</th><th>5d6fcd7bf44b0324bc6b79c9</th><th>5d6fcd7bf44b0324bc6b79cc</th><th>5d6fcd7bf44b0324bc6b79cf</th><th>5d6fcd7bf44b0324bc6b79d1</th><th>5d6fcd7cf44b0324bc6b79d4</th><th>5d6fcd7cf44b0324bc6b79d7</th><th>5d6fcd7cf44b0324bc6b79dc</th><th>5d6fcd7cf44b0324bc6b79df</th><th>5d6fcd7cf44b0324bc6b79e4</th><th>5d6fcd7df44b0324bc6b79ed</th><th>5d6fcd7df44b0324bc6b79ef</th><th>5d6fcd7df44b0324bc6b79f1</th><th>5d6fcd7df44b0324bc6b79f4</th><th>5d6fcd7df44b0324bc6b79f7</th><th>5d6fcd7df44b0324bc6b79fd</th><th>5d6fcd7ef44b0324bc6b7a00</th><th>5d6fcd7ef44b0324bc6b7a02</th><th>5d6fcd7ef44b0324bc6b7a03</th></tr><tr><td>datetime[ms]</td><td>f64</td><td>f64</td><td>f64</td><td>f64</td><td>f64</td><td>f64</td><td>f64</td><td>f64</td><td>f64</td><td>f64</td><td>f64</td><td>f64</td><td>f64</td><td>f64</td><td>f64</td><td>f64</td><td>f64</td><td>f64</td><td>f64</td><td>f64</td><td>f64</td><td>f64</td><td>f64</td><td>f64</td><td>f64</td><td>f64</td><td>f64</td><td>f64</td><td>f64</td><td>f64</td><td>f64</td><td>f64</td><td>f64</td><td>f64</td><td>f64</td><td>i64</td><td>&hellip;</td><td>f64</td><td>f64</td><td>f64</td><td>f64</td><td>f64</td><td>f64</td><td>f64</td><td>f64</td><td>f64</td><td>f64</td><td>f64</td><td>f64</td><td>f64</td><td>f64</td><td>f64</td><td>f64</td><td>f64</td><td>f64</td><td>f64</td><td>f64</td><td>f64</td><td>f64</td><td>f64</td><td>f64</td><td>f64</td><td>f64</td><td>f64</td><td>f64</td><td>f64</td><td>f64</td><td>f64</td><td>f64</td><td>f64</td><td>f64</td><td>f64</td><td>f64</td><td>f64</td></tr></thead><tbody><tr><td>2019-01-01 00:00:00</td><td>0.039</td><td>0.384</td><td>0.986</td><td>0.706</td><td>0.304</td><td>0.073</td><td>3.262</td><td>3.0</td><td>0.645</td><td>1.279</td><td>0.0</td><td>0.349</td><td>0.517</td><td>0.465</td><td>0.633</td><td>0.967</td><td>0.044</td><td>1.806</td><td>0.0</td><td>0.147</td><td>6.327</td><td>0.379</td><td>0.033</td><td>0.14</td><td>0.325</td><td>0.044</td><td>0.145</td><td>0.024</td><td>0.495</td><td>0.279</td><td>4.479</td><td>0.082</td><td>0.038</td><td>0.106</td><td>3.0</td><td>3</td><td>&hellip;</td><td>0.035</td><td>2.511</td><td>1.223</td><td>0.181</td><td>0.231</td><td>0.318</td><td>0.112</td><td>0.195</td><td>0.403</td><td>0.144</td><td>0.145</td><td>0.196</td><td>0.284</td><td>0.21</td><td>0.512</td><td>0.248</td><td>0.165</td><td>4.413</td><td>0.308</td><td>1.397</td><td>3.293</td><td>0.013</td><td>0.002</td><td>0.301</td><td>2.585</td><td>0.039</td><td>1.67</td><td>0.431</td><td>0.1</td><td>0.01</td><td>0.258</td><td>0.009</td><td>0.488</td><td>0.81</td><td>0.309</td><td>0.366</td><td>0.29</td></tr><tr><td>2019-01-01 01:00:00</td><td>0.269</td><td>0.051</td><td>0.846</td><td>2.21</td><td>0.673</td><td>0.047</td><td>3.252</td><td>4.0</td><td>0.746</td><td>0.851</td><td>0.0</td><td>0.347</td><td>0.589</td><td>0.171</td><td>0.635</td><td>0.952</td><td>0.11</td><td>1.706</td><td>0.0</td><td>0.145</td><td>4.237</td><td>0.409</td><td>0.036</td><td>0.172</td><td>0.322</td><td>0.044</td><td>0.142</td><td>0.614</td><td>0.492</td><td>0.385</td><td>4.262</td><td>0.095</td><td>0.156</td><td>0.106</td><td>2.0</td><td>3</td><td>&hellip;</td><td>0.036</td><td>2.299</td><td>1.293</td><td>0.182</td><td>0.207</td><td>0.286</td><td>0.101</td><td>0.216</td><td>0.435</td><td>0.23</td><td>0.208</td><td>0.177</td><td>0.29</td><td>0.186</td><td>0.832</td><td>0.236</td><td>0.167</td><td>5.587</td><td>0.183</td><td>1.075</td><td>1.365</td><td>0.033</td><td>0.003</td><td>0.287</td><td>2.506</td><td>0.425</td><td>1.609</td><td>0.447</td><td>0.025</td><td>0.009</td><td>0.232</td><td>0.009</td><td>0.447</td><td>0.753</td><td>0.381</td><td>0.308</td><td>0.369</td></tr><tr><td>2019-01-01 02:00:00</td><td>0.331</td><td>0.049</td><td>0.97</td><td>1.797</td><td>0.31</td><td>0.058</td><td>3.043</td><td>4.0</td><td>0.678</td><td>0.789</td><td>0.0</td><td>0.347</td><td>0.588</td><td>0.178</td><td>0.628</td><td>0.886</td><td>0.044</td><td>1.518</td><td>0.0</td><td>0.146</td><td>3.772</td><td>0.409</td><td>0.038</td><td>0.182</td><td>0.572</td><td>0.044</td><td>0.148</td><td>0.04</td><td>0.734</td><td>0.404</td><td>3.678</td><td>0.144</td><td>0.038</td><td>0.104</td><td>3.0</td><td>3</td><td>&hellip;</td><td>0.045</td><td>1.343</td><td>1.291</td><td>0.181</td><td>0.231</td><td>0.548</td><td>0.103</td><td>0.244</td><td>0.415</td><td>0.164</td><td>0.255</td><td>0.212</td><td>0.351</td><td>0.224</td><td>1.473</td><td>0.383</td><td>0.245</td><td>4.448</td><td>0.295</td><td>1.1</td><td>0.611</td><td>0.011</td><td>0.003</td><td>0.294</td><td>2.497</td><td>0.134</td><td>1.583</td><td>0.439</td><td>0.025</td><td>0.009</td><td>0.26</td><td>0.009</td><td>0.508</td><td>0.092</td><td>0.193</td><td>0.137</td><td>0.292</td></tr><tr><td>2019-01-01 03:00:00</td><td>0.093</td><td>0.049</td><td>0.803</td><td>1.01</td><td>0.545</td><td>0.059</td><td>2.96</td><td>4.0</td><td>0.644</td><td>0.637</td><td>0.0</td><td>0.349</td><td>0.432</td><td>0.477</td><td>0.627</td><td>1.013</td><td>0.058</td><td>1.757</td><td>0.0</td><td>0.148</td><td>3.553</td><td>0.411</td><td>0.04</td><td>0.242</td><td>0.322</td><td>0.045</td><td>0.212</td><td>0.055</td><td>0.434</td><td>0.227</td><td>3.844</td><td>0.082</td><td>0.174</td><td>0.685</td><td>2.0</td><td>2</td><td>&hellip;</td><td>0.026</td><td>2.703</td><td>1.284</td><td>0.18</td><td>0.224</td><td>0.369</td><td>0.103</td><td>0.217</td><td>0.409</td><td>0.163</td><td>0.171</td><td>0.173</td><td>0.29</td><td>0.216</td><td>0.532</td><td>0.213</td><td>0.165</td><td>1.564</td><td>0.296</td><td>1.909</td><td>0.171</td><td>0.033</td><td>0.003</td><td>0.339</td><td>2.696</td><td>0.153</td><td>1.492</td><td>0.913</td><td>0.023</td><td>0.009</td><td>0.252</td><td>0.009</td><td>0.511</td><td>0.032</td><td>0.124</td><td>0.201</td><td>0.358</td></tr><tr><td>2019-01-01 04:00:00</td><td>0.116</td><td>0.05</td><td>1.303</td><td>0.66</td><td>0.41</td><td>0.072</td><td>3.054</td><td>3.0</td><td>0.13</td><td>0.262</td><td>0.0</td><td>0.339</td><td>0.214</td><td>0.144</td><td>0.634</td><td>0.915</td><td>0.085</td><td>1.798</td><td>0.0</td><td>0.148</td><td>3.494</td><td>0.4</td><td>0.039</td><td>0.145</td><td>0.395</td><td>0.044</td><td>0.416</td><td>0.024</td><td>0.434</td><td>0.228</td><td>3.814</td><td>0.09</td><td>0.039</td><td>0.108</td><td>3.0</td><td>3</td><td>&hellip;</td><td>0.038</td><td>0.786</td><td>1.529</td><td>0.181</td><td>0.231</td><td>0.285</td><td>0.102</td><td>0.186</td><td>0.513</td><td>0.152</td><td>0.162</td><td>0.196</td><td>0.334</td><td>0.21</td><td>0.513</td><td>0.221</td><td>0.165</td><td>0.647</td><td>0.305</td><td>0.782</td><td>0.499</td><td>0.033</td><td>0.003</td><td>0.288</td><td>2.551</td><td>0.086</td><td>2.199</td><td>1.256</td><td>0.024</td><td>0.009</td><td>0.278</td><td>0.009</td><td>0.51</td><td>0.081</td><td>0.081</td><td>0.223</td><td>0.38</td></tr></tbody></table></div>"
      ],
      "text/plain": [
       "shape: (5, 500)\n",
       "┌───────────┬───────────┬───────────┬───────────┬───┬───────────┬───────────┬───────────┬──────────┐\n",
       "│ date      ┆ 5d6fcd1cf ┆ 5d6fcd1cf ┆ 5d6fcd1cf ┆ … ┆ 5d6fcd7df ┆ 5d6fcd7ef ┆ 5d6fcd7ef ┆ 5d6fcd7e │\n",
       "│ ---       ┆ 44b0324bc ┆ 44b0324bc ┆ 44b0324bc ┆   ┆ 44b0324bc ┆ 44b0324bc ┆ 44b0324bc ┆ f44b0324 │\n",
       "│ datetime[ ┆ 6b7254    ┆ 6b7257    ┆ 6b725a    ┆   ┆ 6b79fd    ┆ 6b7a00    ┆ 6b7a02    ┆ bc6b7a03 │\n",
       "│ ms]       ┆ ---       ┆ ---       ┆ ---       ┆   ┆ ---       ┆ ---       ┆ ---       ┆ ---      │\n",
       "│           ┆ f64       ┆ f64       ┆ f64       ┆   ┆ f64       ┆ f64       ┆ f64       ┆ f64      │\n",
       "╞═══════════╪═══════════╪═══════════╪═══════════╪═══╪═══════════╪═══════════╪═══════════╪══════════╡\n",
       "│ 2019-01-0 ┆ 0.039     ┆ 0.384     ┆ 0.986     ┆ … ┆ 0.81      ┆ 0.309     ┆ 0.366     ┆ 0.29     │\n",
       "│ 1         ┆           ┆           ┆           ┆   ┆           ┆           ┆           ┆          │\n",
       "│ 00:00:00  ┆           ┆           ┆           ┆   ┆           ┆           ┆           ┆          │\n",
       "│ 2019-01-0 ┆ 0.269     ┆ 0.051     ┆ 0.846     ┆ … ┆ 0.753     ┆ 0.381     ┆ 0.308     ┆ 0.369    │\n",
       "│ 1         ┆           ┆           ┆           ┆   ┆           ┆           ┆           ┆          │\n",
       "│ 01:00:00  ┆           ┆           ┆           ┆   ┆           ┆           ┆           ┆          │\n",
       "│ 2019-01-0 ┆ 0.331     ┆ 0.049     ┆ 0.97      ┆ … ┆ 0.092     ┆ 0.193     ┆ 0.137     ┆ 0.292    │\n",
       "│ 1         ┆           ┆           ┆           ┆   ┆           ┆           ┆           ┆          │\n",
       "│ 02:00:00  ┆           ┆           ┆           ┆   ┆           ┆           ┆           ┆          │\n",
       "│ 2019-01-0 ┆ 0.093     ┆ 0.049     ┆ 0.803     ┆ … ┆ 0.032     ┆ 0.124     ┆ 0.201     ┆ 0.358    │\n",
       "│ 1         ┆           ┆           ┆           ┆   ┆           ┆           ┆           ┆          │\n",
       "│ 03:00:00  ┆           ┆           ┆           ┆   ┆           ┆           ┆           ┆          │\n",
       "│ 2019-01-0 ┆ 0.116     ┆ 0.05      ┆ 1.303     ┆ … ┆ 0.081     ┆ 0.081     ┆ 0.223     ┆ 0.38     │\n",
       "│ 1         ┆           ┆           ┆           ┆   ┆           ┆           ┆           ┆          │\n",
       "│ 04:00:00  ┆           ┆           ┆           ┆   ┆           ┆           ┆           ┆          │\n",
       "└───────────┴───────────┴───────────┴───────────┴───┴───────────┴───────────┴───────────┴──────────┘"
      ]
     },
     "execution_count": 174,
     "metadata": {},
     "output_type": "execute_result"
    }
   ],
   "source": [
    "consumption_df = pl.read_excel('../data/raw/consumption.xlsx')\n",
    "\n",
    "print(\"First 5 rows of consumption dataset:\")\n",
    "consumption_df.head(5)"
   ]
  },
  {
   "cell_type": "code",
   "execution_count": 175,
   "id": "7ab09676",
   "metadata": {},
   "outputs": [
    {
     "name": "stdout",
     "output_type": "stream",
     "text": [
      "First 5 rows of weather dataset:\n"
     ]
    },
    {
     "data": {
      "text/html": [
       "<div><style>\n",
       ".dataframe > thead > tr,\n",
       ".dataframe > tbody > tr {\n",
       "  text-align: right;\n",
       "  white-space: pre-wrap;\n",
       "}\n",
       "</style>\n",
       "<small>shape: (5, 500)</small><table border=\"1\" class=\"dataframe\"><thead><tr><th>date</th><th>5d6fcd1cf44b0324bc6b7254</th><th>5d6fcd1cf44b0324bc6b7257</th><th>5d6fcd1cf44b0324bc6b725a</th><th>5d6fcd1cf44b0324bc6b725d</th><th>5d6fcd1df44b0324bc6b7260</th><th>5d6fcd1df44b0324bc6b726b</th><th>5d6fcd1df44b0324bc6b7271</th><th>5d6fcd1df44b0324bc6b7274</th><th>5d6fcd1ef44b0324bc6b727a</th><th>5d6fcd1ef44b0324bc6b727c</th><th>5d6fcd1ef44b0324bc6b7289</th><th>5d6fcd1ef44b0324bc6b728b</th><th>5d6fcd1ff44b0324bc6b728d</th><th>5d6fcd1ff44b0324bc6b7293</th><th>5d6fcd1ff44b0324bc6b7296</th><th>5d6fcd1ff44b0324bc6b7299</th><th>5d6fcd1ff44b0324bc6b729b</th><th>5d6fcd1ff44b0324bc6b729e</th><th>5d6fcd20f44b0324bc6b72a4</th><th>5d6fcd20f44b0324bc6b72aa</th><th>5d6fcd20f44b0324bc6b72b0</th><th>5d6fcd20f44b0324bc6b72b6</th><th>5d6fcd21f44b0324bc6b72bc</th><th>5d6fcd21f44b0324bc6b72bf</th><th>5d6fcdddf44b0324bc6b815b</th><th>5d6fcdddf44b0324bc6b815c</th><th>5d6fcd21f44b0324bc6b72c5</th><th>5d6fcd22f44b0324bc6b72dd</th><th>5d6fcd23f44b0324bc6b72e7</th><th>5d6fcd23f44b0324bc6b72ed</th><th>5d6fcd23f44b0324bc6b72f3</th><th>5d6fcd23f44b0324bc6b72f6</th><th>5d6fcd23f44b0324bc6b72fa</th><th>5d6fcd24f44b0324bc6b72fd</th><th>5d6fcd24f44b0324bc6b7302</th><th>5d6fcd25f44b0324bc6b7313</th><th>&hellip;</th><th>5d6fcd79f44b0324bc6b79a8</th><th>5d6fcd79f44b0324bc6b79ae</th><th>5d6fcd79f44b0324bc6b79b1</th><th>5d6fcd7bf44b0324bc6b79c2</th><th>5d6fcd7bf44b0324bc6b79c1</th><th>5d6fcd7bf44b0324bc6b79c0</th><th>5d6fcd7af44b0324bc6b79bf</th><th>5d6fcd79f44b0324bc6b79b6</th><th>5d6fcd7af44b0324bc6b79be</th><th>5d6fcd7af44b0324bc6b79bd</th><th>5d6fcd7af44b0324bc6b79bc</th><th>5d6fcd7af44b0324bc6b79bb</th><th>5d6fcd7af44b0324bc6b79ba</th><th>5d6fcd7af44b0324bc6b79b9</th><th>5d6fcd79f44b0324bc6b79b5</th><th>5d6fcd7af44b0324bc6b79b8</th><th>5d6fcd79f44b0324bc6b79b7</th><th>5d6fcd7bf44b0324bc6b79c5</th><th>5d6fcd7bf44b0324bc6b79c7</th><th>5d6fcd7bf44b0324bc6b79c9</th><th>5d6fcd7bf44b0324bc6b79cc</th><th>5d6fcd7bf44b0324bc6b79cf</th><th>5d6fcd7bf44b0324bc6b79d1</th><th>5d6fcd7cf44b0324bc6b79d4</th><th>5d6fcd7cf44b0324bc6b79d7</th><th>5d6fcd7cf44b0324bc6b79dc</th><th>5d6fcd7cf44b0324bc6b79df</th><th>5d6fcd7cf44b0324bc6b79e4</th><th>5d6fcd7df44b0324bc6b79ed</th><th>5d6fcd7df44b0324bc6b79ef</th><th>5d6fcd7df44b0324bc6b79f1</th><th>5d6fcd7df44b0324bc6b79f4</th><th>5d6fcd7df44b0324bc6b79f7</th><th>5d6fcd7df44b0324bc6b79fd</th><th>5d6fcd7ef44b0324bc6b7a00</th><th>5d6fcd7ef44b0324bc6b7a02</th><th>5d6fcd7ef44b0324bc6b7a03</th></tr><tr><td>datetime[ms]</td><td>f64</td><td>f64</td><td>f64</td><td>f64</td><td>f64</td><td>f64</td><td>f64</td><td>f64</td><td>f64</td><td>f64</td><td>f64</td><td>f64</td><td>f64</td><td>f64</td><td>f64</td><td>f64</td><td>f64</td><td>f64</td><td>f64</td><td>f64</td><td>f64</td><td>f64</td><td>f64</td><td>f64</td><td>f64</td><td>f64</td><td>f64</td><td>f64</td><td>f64</td><td>f64</td><td>f64</td><td>f64</td><td>f64</td><td>f64</td><td>f64</td><td>f64</td><td>&hellip;</td><td>f64</td><td>f64</td><td>f64</td><td>f64</td><td>f64</td><td>f64</td><td>f64</td><td>f64</td><td>f64</td><td>f64</td><td>f64</td><td>f64</td><td>f64</td><td>f64</td><td>f64</td><td>f64</td><td>f64</td><td>f64</td><td>f64</td><td>f64</td><td>f64</td><td>f64</td><td>f64</td><td>f64</td><td>f64</td><td>f64</td><td>f64</td><td>f64</td><td>f64</td><td>f64</td><td>f64</td><td>f64</td><td>f64</td><td>f64</td><td>f64</td><td>f64</td><td>f64</td></tr></thead><tbody><tr><td>2019-01-01 00:00:00</td><td>10.31</td><td>10.35</td><td>1.65</td><td>1.7</td><td>11.53</td><td>10.76</td><td>10.57</td><td>0.43</td><td>1.66</td><td>10.49</td><td>8.98</td><td>10.33</td><td>1.71</td><td>8.5</td><td>10.75</td><td>1.69</td><td>1.81</td><td>8.55</td><td>10.72</td><td>-0.94</td><td>10.64</td><td>2.35</td><td>4.4</td><td>4.87</td><td>4.87</td><td>4.87</td><td>10.77</td><td>10.77</td><td>5.03</td><td>2.32</td><td>1.76</td><td>1.63</td><td>1.77</td><td>1.7</td><td>7.51</td><td>-0.42</td><td>&hellip;</td><td>11.18</td><td>0.14</td><td>9.18</td><td>9.48</td><td>9.48</td><td>9.48</td><td>9.48</td><td>9.48</td><td>9.48</td><td>9.48</td><td>9.48</td><td>9.48</td><td>9.48</td><td>9.48</td><td>9.48</td><td>9.48</td><td>9.48</td><td>11.83</td><td>12.1</td><td>1.61</td><td>0.08</td><td>10.71</td><td>10.6</td><td>1.68</td><td>10.71</td><td>10.33</td><td>4.53</td><td>10.4</td><td>9.53</td><td>9.94</td><td>3.19</td><td>3.14</td><td>3.2</td><td>2.63</td><td>1.51</td><td>1.51</td><td>1.51</td></tr><tr><td>2019-01-01 01:00:00</td><td>10.34</td><td>10.38</td><td>1.33</td><td>1.37</td><td>11.78</td><td>10.79</td><td>10.61</td><td>0.17</td><td>1.33</td><td>10.73</td><td>8.99</td><td>10.37</td><td>1.39</td><td>8.51</td><td>10.78</td><td>1.37</td><td>1.49</td><td>9.0</td><td>10.76</td><td>-1.2</td><td>10.68</td><td>1.92</td><td>3.96</td><td>4.64</td><td>4.64</td><td>4.64</td><td>10.8</td><td>10.8</td><td>4.77</td><td>1.73</td><td>1.44</td><td>1.31</td><td>1.44</td><td>1.37</td><td>7.77</td><td>-0.63</td><td>&hellip;</td><td>11.41</td><td>-0.16</td><td>9.18</td><td>9.48</td><td>9.48</td><td>9.48</td><td>9.48</td><td>9.48</td><td>9.48</td><td>9.48</td><td>9.48</td><td>9.48</td><td>9.48</td><td>9.48</td><td>9.48</td><td>9.48</td><td>9.48</td><td>11.95</td><td>12.24</td><td>1.3</td><td>-0.19</td><td>10.74</td><td>10.63</td><td>1.25</td><td>10.74</td><td>10.58</td><td>4.27</td><td>10.65</td><td>10.21</td><td>10.63</td><td>3.7</td><td>3.65</td><td>3.71</td><td>2.08</td><td>1.21</td><td>1.21</td><td>1.21</td></tr><tr><td>2019-01-01 02:00:00</td><td>10.36</td><td>10.4</td><td>1.01</td><td>1.05</td><td>12.03</td><td>10.82</td><td>10.64</td><td>-0.09</td><td>1.01</td><td>10.98</td><td>8.99</td><td>10.4</td><td>1.07</td><td>8.52</td><td>10.81</td><td>1.04</td><td>1.16</td><td>9.46</td><td>10.79</td><td>-1.46</td><td>10.71</td><td>1.5</td><td>3.52</td><td>4.4</td><td>4.4</td><td>4.4</td><td>10.83</td><td>10.83</td><td>4.51</td><td>1.14</td><td>1.11</td><td>0.99</td><td>1.12</td><td>1.05</td><td>8.03</td><td>-0.84</td><td>&hellip;</td><td>11.64</td><td>-0.45</td><td>9.17</td><td>9.47</td><td>9.47</td><td>9.47</td><td>9.47</td><td>9.47</td><td>9.47</td><td>9.47</td><td>9.47</td><td>9.47</td><td>9.47</td><td>9.47</td><td>9.47</td><td>9.47</td><td>9.47</td><td>12.07</td><td>12.37</td><td>0.99</td><td>-0.47</td><td>10.77</td><td>10.66</td><td>0.81</td><td>10.77</td><td>10.83</td><td>4.01</td><td>10.9</td><td>10.88</td><td>11.33</td><td>4.22</td><td>4.17</td><td>4.23</td><td>1.53</td><td>0.91</td><td>0.91</td><td>0.91</td></tr><tr><td>2019-01-01 03:00:00</td><td>10.39</td><td>10.43</td><td>0.69</td><td>0.73</td><td>12.28</td><td>10.84</td><td>10.68</td><td>-0.34</td><td>0.69</td><td>11.23</td><td>9.0</td><td>10.44</td><td>0.74</td><td>8.53</td><td>10.83</td><td>0.72</td><td>0.83</td><td>9.91</td><td>10.83</td><td>-1.71</td><td>10.75</td><td>1.08</td><td>3.09</td><td>4.17</td><td>4.17</td><td>4.17</td><td>10.85</td><td>10.85</td><td>4.25</td><td>0.55</td><td>0.79</td><td>0.67</td><td>0.79</td><td>0.73</td><td>8.3</td><td>-1.05</td><td>&hellip;</td><td>11.86</td><td>-0.74</td><td>9.16</td><td>9.46</td><td>9.46</td><td>9.46</td><td>9.46</td><td>9.46</td><td>9.46</td><td>9.46</td><td>9.46</td><td>9.46</td><td>9.46</td><td>9.46</td><td>9.46</td><td>9.46</td><td>9.46</td><td>12.19</td><td>12.5</td><td>0.68</td><td>-0.75</td><td>10.79</td><td>10.68</td><td>0.38</td><td>10.79</td><td>11.07</td><td>3.75</td><td>11.14</td><td>11.56</td><td>12.02</td><td>4.74</td><td>4.69</td><td>4.75</td><td>0.99</td><td>0.6</td><td>0.6</td><td>0.6</td></tr><tr><td>2019-01-01 04:00:00</td><td>10.27</td><td>10.31</td><td>0.47</td><td>0.51</td><td>12.13</td><td>10.73</td><td>10.57</td><td>-0.62</td><td>0.48</td><td>11.06</td><td>8.84</td><td>10.33</td><td>0.53</td><td>8.37</td><td>10.72</td><td>0.51</td><td>0.62</td><td>9.75</td><td>10.72</td><td>-1.88</td><td>10.64</td><td>0.91</td><td>3.14</td><td>4.24</td><td>4.24</td><td>4.24</td><td>10.74</td><td>10.74</td><td>4.29</td><td>-0.11</td><td>0.57</td><td>0.46</td><td>0.58</td><td>0.51</td><td>7.97</td><td>-1.39</td><td>&hellip;</td><td>11.69</td><td>-0.94</td><td>9.04</td><td>9.34</td><td>9.34</td><td>9.34</td><td>9.34</td><td>9.34</td><td>9.34</td><td>9.34</td><td>9.34</td><td>9.34</td><td>9.34</td><td>9.34</td><td>9.34</td><td>9.34</td><td>9.34</td><td>12.08</td><td>12.39</td><td>0.46</td><td>-0.94</td><td>10.68</td><td>10.57</td><td>0.12</td><td>10.68</td><td>10.9</td><td>3.47</td><td>10.97</td><td>11.33</td><td>11.79</td><td>4.47</td><td>4.42</td><td>4.48</td><td>0.76</td><td>0.38</td><td>0.38</td><td>0.38</td></tr></tbody></table></div>"
      ],
      "text/plain": [
       "shape: (5, 500)\n",
       "┌───────────┬───────────┬───────────┬───────────┬───┬───────────┬───────────┬───────────┬──────────┐\n",
       "│ date      ┆ 5d6fcd1cf ┆ 5d6fcd1cf ┆ 5d6fcd1cf ┆ … ┆ 5d6fcd7df ┆ 5d6fcd7ef ┆ 5d6fcd7ef ┆ 5d6fcd7e │\n",
       "│ ---       ┆ 44b0324bc ┆ 44b0324bc ┆ 44b0324bc ┆   ┆ 44b0324bc ┆ 44b0324bc ┆ 44b0324bc ┆ f44b0324 │\n",
       "│ datetime[ ┆ 6b7254    ┆ 6b7257    ┆ 6b725a    ┆   ┆ 6b79fd    ┆ 6b7a00    ┆ 6b7a02    ┆ bc6b7a03 │\n",
       "│ ms]       ┆ ---       ┆ ---       ┆ ---       ┆   ┆ ---       ┆ ---       ┆ ---       ┆ ---      │\n",
       "│           ┆ f64       ┆ f64       ┆ f64       ┆   ┆ f64       ┆ f64       ┆ f64       ┆ f64      │\n",
       "╞═══════════╪═══════════╪═══════════╪═══════════╪═══╪═══════════╪═══════════╪═══════════╪══════════╡\n",
       "│ 2019-01-0 ┆ 10.31     ┆ 10.35     ┆ 1.65      ┆ … ┆ 2.63      ┆ 1.51      ┆ 1.51      ┆ 1.51     │\n",
       "│ 1         ┆           ┆           ┆           ┆   ┆           ┆           ┆           ┆          │\n",
       "│ 00:00:00  ┆           ┆           ┆           ┆   ┆           ┆           ┆           ┆          │\n",
       "│ 2019-01-0 ┆ 10.34     ┆ 10.38     ┆ 1.33      ┆ … ┆ 2.08      ┆ 1.21      ┆ 1.21      ┆ 1.21     │\n",
       "│ 1         ┆           ┆           ┆           ┆   ┆           ┆           ┆           ┆          │\n",
       "│ 01:00:00  ┆           ┆           ┆           ┆   ┆           ┆           ┆           ┆          │\n",
       "│ 2019-01-0 ┆ 10.36     ┆ 10.4      ┆ 1.01      ┆ … ┆ 1.53      ┆ 0.91      ┆ 0.91      ┆ 0.91     │\n",
       "│ 1         ┆           ┆           ┆           ┆   ┆           ┆           ┆           ┆          │\n",
       "│ 02:00:00  ┆           ┆           ┆           ┆   ┆           ┆           ┆           ┆          │\n",
       "│ 2019-01-0 ┆ 10.39     ┆ 10.43     ┆ 0.69      ┆ … ┆ 0.99      ┆ 0.6       ┆ 0.6       ┆ 0.6      │\n",
       "│ 1         ┆           ┆           ┆           ┆   ┆           ┆           ┆           ┆          │\n",
       "│ 03:00:00  ┆           ┆           ┆           ┆   ┆           ┆           ┆           ┆          │\n",
       "│ 2019-01-0 ┆ 10.27     ┆ 10.31     ┆ 0.47      ┆ … ┆ 0.76      ┆ 0.38      ┆ 0.38      ┆ 0.38     │\n",
       "│ 1         ┆           ┆           ┆           ┆   ┆           ┆           ┆           ┆          │\n",
       "│ 04:00:00  ┆           ┆           ┆           ┆   ┆           ┆           ┆           ┆          │\n",
       "└───────────┴───────────┴───────────┴───────────┴───┴───────────┴───────────┴───────────┴──────────┘"
      ]
     },
     "execution_count": 175,
     "metadata": {},
     "output_type": "execute_result"
    }
   ],
   "source": [
    "weather_df = pl.read_excel('../data/raw/weather.xlsx')\n",
    "\n",
    "print(\"First 5 rows of weather dataset:\")\n",
    "weather_df.head(5)"
   ]
  },
  {
   "cell_type": "code",
   "execution_count": 176,
   "id": "b9e4c243",
   "metadata": {},
   "outputs": [
    {
     "name": "stdout",
     "output_type": "stream",
     "text": [
      "First 5 rows of profiles dataset:\n"
     ]
    },
    {
     "data": {
      "text/html": [
       "<div><style>\n",
       ".dataframe > thead > tr,\n",
       ".dataframe > tbody > tr {\n",
       "  text-align: right;\n",
       "  white-space: pre-wrap;\n",
       "}\n",
       "</style>\n",
       "<small>shape: (5, 2)</small><table border=\"1\" class=\"dataframe\"><thead><tr><th>__UNNAMED__0</th><th>activity</th></tr><tr><td>str</td><td>str</td></tr></thead><tbody><tr><td>&quot;5d6fcd1cf44b0324bc6b7254&quot;</td><td>&quot;Actividades de los hogares com…</td></tr><tr><td>&quot;5d6fcd1cf44b0324bc6b7257&quot;</td><td>&quot;Actividades de los hogares com…</td></tr><tr><td>&quot;5d6fcd1cf44b0324bc6b725a&quot;</td><td>&quot;Comercio al por menor de fruta…</td></tr><tr><td>&quot;5d6fcd1cf44b0324bc6b725d&quot;</td><td>&quot;Actividades de los hogares com…</td></tr><tr><td>&quot;5d6fcd1df44b0324bc6b7260&quot;</td><td>&quot;Actividades de los hogares com…</td></tr></tbody></table></div>"
      ],
      "text/plain": [
       "shape: (5, 2)\n",
       "┌──────────────────────────┬─────────────────────────────────┐\n",
       "│ __UNNAMED__0             ┆ activity                        │\n",
       "│ ---                      ┆ ---                             │\n",
       "│ str                      ┆ str                             │\n",
       "╞══════════════════════════╪═════════════════════════════════╡\n",
       "│ 5d6fcd1cf44b0324bc6b7254 ┆ Actividades de los hogares com… │\n",
       "│ 5d6fcd1cf44b0324bc6b7257 ┆ Actividades de los hogares com… │\n",
       "│ 5d6fcd1cf44b0324bc6b725a ┆ Comercio al por menor de fruta… │\n",
       "│ 5d6fcd1cf44b0324bc6b725d ┆ Actividades de los hogares com… │\n",
       "│ 5d6fcd1df44b0324bc6b7260 ┆ Actividades de los hogares com… │\n",
       "└──────────────────────────┴─────────────────────────────────┘"
      ]
     },
     "execution_count": 176,
     "metadata": {},
     "output_type": "execute_result"
    }
   ],
   "source": [
    "profiles_df = pl.read_excel('../data/raw/profiles.xlsx')\n",
    "\n",
    "print(\"First 5 rows of profiles dataset:\")\n",
    "profiles_df.head(5)"
   ]
  },
  {
   "cell_type": "markdown",
   "id": "0d85b44f",
   "metadata": {},
   "source": [
    "## Data preparation"
   ]
  },
  {
   "cell_type": "markdown",
   "id": "15774c7c",
   "metadata": {},
   "source": [
    "As can be seen when displaying the profiles, it appears that the first column containing the customer identifiers has no name, so it will be assigned the name 'customer' to facilitate the analysis."
   ]
  },
  {
   "cell_type": "code",
   "execution_count": 177,
   "id": "e5b317fe",
   "metadata": {},
   "outputs": [
    {
     "name": "stdout",
     "output_type": "stream",
     "text": [
      "First 5 rows of profiles dataset:\n"
     ]
    },
    {
     "data": {
      "text/html": [
       "<div><style>\n",
       ".dataframe > thead > tr,\n",
       ".dataframe > tbody > tr {\n",
       "  text-align: right;\n",
       "  white-space: pre-wrap;\n",
       "}\n",
       "</style>\n",
       "<small>shape: (5, 2)</small><table border=\"1\" class=\"dataframe\"><thead><tr><th>customer</th><th>activity</th></tr><tr><td>str</td><td>str</td></tr></thead><tbody><tr><td>&quot;5d6fcd1cf44b0324bc6b7254&quot;</td><td>&quot;Actividades de los hogares com…</td></tr><tr><td>&quot;5d6fcd1cf44b0324bc6b7257&quot;</td><td>&quot;Actividades de los hogares com…</td></tr><tr><td>&quot;5d6fcd1cf44b0324bc6b725a&quot;</td><td>&quot;Comercio al por menor de fruta…</td></tr><tr><td>&quot;5d6fcd1cf44b0324bc6b725d&quot;</td><td>&quot;Actividades de los hogares com…</td></tr><tr><td>&quot;5d6fcd1df44b0324bc6b7260&quot;</td><td>&quot;Actividades de los hogares com…</td></tr></tbody></table></div>"
      ],
      "text/plain": [
       "shape: (5, 2)\n",
       "┌──────────────────────────┬─────────────────────────────────┐\n",
       "│ customer                 ┆ activity                        │\n",
       "│ ---                      ┆ ---                             │\n",
       "│ str                      ┆ str                             │\n",
       "╞══════════════════════════╪═════════════════════════════════╡\n",
       "│ 5d6fcd1cf44b0324bc6b7254 ┆ Actividades de los hogares com… │\n",
       "│ 5d6fcd1cf44b0324bc6b7257 ┆ Actividades de los hogares com… │\n",
       "│ 5d6fcd1cf44b0324bc6b725a ┆ Comercio al por menor de fruta… │\n",
       "│ 5d6fcd1cf44b0324bc6b725d ┆ Actividades de los hogares com… │\n",
       "│ 5d6fcd1df44b0324bc6b7260 ┆ Actividades de los hogares com… │\n",
       "└──────────────────────────┴─────────────────────────────────┘"
      ]
     },
     "execution_count": 177,
     "metadata": {},
     "output_type": "execute_result"
    }
   ],
   "source": [
    "profiles_df = profiles_df.rename({profiles_df.columns[0]: \"customer\"})\n",
    "\n",
    "print(\"First 5 rows of profiles dataset:\")\n",
    "profiles_df.head(5)"
   ]
  },
  {
   "cell_type": "markdown",
   "id": "2fd02c6c",
   "metadata": {},
   "source": [
    "The first thing to check is that the column types are correct. In the case of the `consumption_df`, the `date` column should be of type `Datetime`, and the rest of the columns should be of type `Float64`. The same applies to the `weather_df`. The `profiles_df` should have the first column as `customer` (of type `String`) and the second column as `profile` (also of type `String`)."
   ]
  },
  {
   "cell_type": "code",
   "execution_count": 178,
   "id": "a946cf15",
   "metadata": {},
   "outputs": [
    {
     "name": "stdout",
     "output_type": "stream",
     "text": [
      "\n",
      "Distinct column types in consumption_df:\n",
      "{Datetime(time_unit='ms', time_zone=None), Int64, Float64}\n",
      "\n",
      "Distinct column types in weather_df:\n",
      "{Datetime(time_unit='ms', time_zone=None), Float64}\n",
      "\n",
      "Column types in profiles_df:\n",
      "[String, String]\n"
     ]
    }
   ],
   "source": [
    "print(\"\\nDistinct column types in consumption_df:\")\n",
    "print(set(consumption_df.dtypes))\n",
    "\n",
    "print(\"\\nDistinct column types in weather_df:\")\n",
    "print(set(weather_df.dtypes))\n",
    "\n",
    "print(\"\\nColumn types in profiles_df:\")\n",
    "print(profiles_df.dtypes)"
   ]
  },
  {
   "cell_type": "markdown",
   "id": "a3890b21",
   "metadata": {},
   "source": [
    "It seems that all the column types are correct, except for the `consumption_df`, where there is at least one column of the type `Int64`. It will be converted to `Float64` to ensure consistency across the dataset."
   ]
  },
  {
   "cell_type": "code",
   "execution_count": 179,
   "id": "035b8def",
   "metadata": {},
   "outputs": [
    {
     "name": "stdout",
     "output_type": "stream",
     "text": [
      "\n",
      "Distinct column types in consumption_df:\n",
      "{Datetime(time_unit='ms', time_zone=None), Float64}\n"
     ]
    }
   ],
   "source": [
    "consumption_df = consumption_df.with_columns(\n",
    "    [pl.col(c).cast(pl.Float64) for c in consumption_df.columns if c != \"date\"]\n",
    ")\n",
    "\n",
    "print(\"\\nDistinct column types in consumption_df:\")\n",
    "print(set(consumption_df.dtypes))"
   ]
  },
  {
   "cell_type": "markdown",
   "id": "892522f6",
   "metadata": {},
   "source": [
    "It is also necessary to check for the presence of null values in the dataset."
   ]
  },
  {
   "cell_type": "code",
   "execution_count": 180,
   "id": "02e8e73f",
   "metadata": {},
   "outputs": [
    {
     "name": "stdout",
     "output_type": "stream",
     "text": [
      "\n",
      "Columns with nulls in consumption_df:\n",
      "[]\n",
      "\n",
      "Columns with nulls in weather_df:\n",
      "[]\n",
      "\n",
      "Columns with nulls in profiles_df:\n",
      "[]\n"
     ]
    }
   ],
   "source": [
    "print(\"\\nColumns with nulls in consumption_df:\")\n",
    "print([col for col in consumption_df.columns if consumption_df.select(pl.col(col).is_null().any()).item()])\n",
    "\n",
    "print(\"\\nColumns with nulls in weather_df:\")\n",
    "print([col for col in weather_df.columns if weather_df.select(pl.col(col).is_null().any()).item()])\n",
    "\n",
    "print(\"\\nColumns with nulls in profiles_df:\")\n",
    "print([col for col in profiles_df.columns if profiles_df.select(pl.col(col).is_null().any()).item()])"
   ]
  },
  {
   "cell_type": "markdown",
   "id": "309d0734",
   "metadata": {},
   "source": [
    "There are no null values in the dataset, so no further action is needed in this regard."
   ]
  },
  {
   "cell_type": "markdown",
   "id": "499d5a4c",
   "metadata": {},
   "source": [
    "It should also be verified how the daylight saving time changes are reflected in the dataset. In 2019, the first time change occurred on March 31, when the clocks were set forward by one hour at 2:00 AM. The second time change took place on October 27, when the clocks were set back by one hour at 3:00 AM."
   ]
  },
  {
   "cell_type": "code",
   "execution_count": 181,
   "id": "856051aa",
   "metadata": {},
   "outputs": [
    {
     "name": "stdout",
     "output_type": "stream",
     "text": [
      "March 31 timestamps:\n",
      "shape: (2, 1)\n",
      "┌─────────────────────┐\n",
      "│ date                │\n",
      "│ ---                 │\n",
      "│ datetime[ms]        │\n",
      "╞═════════════════════╡\n",
      "│ 2019-03-31 01:00:00 │\n",
      "│ 2019-03-31 03:00:00 │\n",
      "└─────────────────────┘\n"
     ]
    },
    {
     "name": "stdout",
     "output_type": "stream",
     "text": [
      "\n",
      "October 27 timestamps:\n",
      "shape: (4, 1)\n",
      "┌─────────────────────┐\n",
      "│ date                │\n",
      "│ ---                 │\n",
      "│ datetime[ms]        │\n",
      "╞═════════════════════╡\n",
      "│ 2019-10-27 01:00:00 │\n",
      "│ 2019-10-27 02:00:00 │\n",
      "│ 2019-10-27 02:00:00 │\n",
      "│ 2019-10-27 03:00:00 │\n",
      "└─────────────────────┘\n"
     ]
    }
   ],
   "source": [
    "march_31 = consumption_df.filter(\n",
    "    (pl.col(\"date\").dt.date() == pl.date(2019, 3, 31)) &\n",
    "    (pl.col(\"date\").dt.hour().is_between(1, 3))\n",
    ").select(\"date\")\n",
    "\n",
    "print(\"March 31 timestamps:\")\n",
    "print(march_31)\n",
    "\n",
    "oct_27 = consumption_df.filter(\n",
    "    (pl.col(\"date\").dt.date() == pl.date(2019, 10, 27)) &\n",
    "    (pl.col(\"date\").dt.hour().is_between(1, 3))\n",
    ").select(\"date\")\n",
    "\n",
    "print(\"\\nOctober 27 timestamps:\")\n",
    "print(oct_27)"
   ]
  },
  {
   "cell_type": "markdown",
   "id": "7a425b7d",
   "metadata": {},
   "source": [
    "As can be seen, there is no data for the hour 2:00 AM on March 31, so a row with the average consumption of the previous and next hour will be added to the dataset. In October 27, there are two rows for the hour 2:00 AM, so the average of these two rows will be taken to create a single row for the hour 2:00 AM. This ensures that the dataset has 24 rows for each day, maintaining the hourly resolution."
   ]
  },
  {
   "cell_type": "code",
   "execution_count": 182,
   "id": "80ec222c",
   "metadata": {},
   "outputs": [
    {
     "name": "stdout",
     "output_type": "stream",
     "text": [
      "March 31 timestamps:\n",
      "shape: (3, 1)\n",
      "┌─────────────────────┐\n",
      "│ date                │\n",
      "│ ---                 │\n",
      "│ datetime[ms]        │\n",
      "╞═════════════════════╡\n",
      "│ 2019-03-31 01:00:00 │\n",
      "│ 2019-03-31 02:00:00 │\n",
      "│ 2019-03-31 03:00:00 │\n",
      "└─────────────────────┘\n",
      "\n",
      "October 27 timestamps:\n",
      "shape: (3, 1)\n",
      "┌─────────────────────┐\n",
      "│ date                │\n",
      "│ ---                 │\n",
      "│ datetime[ms]        │\n",
      "╞═════════════════════╡\n",
      "│ 2019-10-27 01:00:00 │\n",
      "│ 2019-10-27 02:00:00 │\n",
      "│ 2019-10-27 03:00:00 │\n",
      "└─────────────────────┘\n"
     ]
    }
   ],
   "source": [
    "# Add row for 02:00 on March 31\n",
    "prev_hour = consumption_df.filter(pl.col(\"date\") == pl.datetime(2019, 3, 31, 1, 0, 0))\n",
    "next_hour = consumption_df.filter(pl.col(\"date\") == pl.datetime(2019, 3, 31, 3, 0, 0))\n",
    "\n",
    "numeric_cols = [c for c in consumption_df.columns if c != \"date\"]\n",
    "avg_values = (prev_hour.select(numeric_cols) + next_hour.select(numeric_cols)) / 2\n",
    "\n",
    "avg_row = avg_values.with_columns(\n",
    "    pl.lit(datetime(2019, 3, 31, 2, 0, 0), dtype=pl.Datetime(\"ms\")).alias(\"date\")\n",
    ")\n",
    "\n",
    "avg_row = avg_row.select(consumption_df.columns)\n",
    "\n",
    "consumption_df = pl.concat([consumption_df, avg_row], how=\"vertical\").sort(\"date\")\n",
    "\n",
    "march_31 = consumption_df.filter(\n",
    "    (pl.col(\"date\").dt.date() == pl.date(2019, 3, 31)) &\n",
    "    (pl.col(\"date\").dt.hour().is_between(1, 3))\n",
    ").select(\"date\")\n",
    "\n",
    "print(\"March 31 timestamps:\")\n",
    "print(march_31)\n",
    "\n",
    "# Calculate the average for October 27 at 2:00 AM \n",
    "oct_27_2am = consumption_df.filter(\n",
    "    (pl.col(\"date\").dt.date() == pl.date(2019, 10, 27)) &\n",
    "    (pl.col(\"date\").dt.hour() == 2)\n",
    ")\n",
    "\n",
    "numeric_cols = [c for c in consumption_df.columns if c != \"date\"]\n",
    "avg_values = oct_27_2am.select(numeric_cols).mean()\n",
    "\n",
    "dt_oct = datetime(2019, 10, 27, 2, 0, 0)\n",
    "avg_row_oct = avg_values.with_columns(\n",
    "    pl.lit(dt_oct, dtype=pl.Datetime(\"ms\")).alias(\"date\")\n",
    ")\n",
    "\n",
    "avg_row_oct = avg_row_oct.select(consumption_df.columns)\n",
    "\n",
    "consumption_df = consumption_df.filter(~(\n",
    "    (pl.col(\"date\").dt.date() == pl.date(2019, 10, 27)) &\n",
    "    (pl.col(\"date\").dt.hour() == 2)\n",
    "))\n",
    "consumption_df = pl.concat([consumption_df, avg_row_oct], how=\"vertical\").sort(\"date\")\n",
    "\n",
    "oct_27 = consumption_df.filter(\n",
    "    (pl.col(\"date\").dt.date() == pl.date(2019, 10, 27)) &\n",
    "    (pl.col(\"date\").dt.hour().is_between(1, 3))\n",
    ").select(\"date\")\n",
    "\n",
    "print(\"\\nOctober 27 timestamps:\")\n",
    "print(oct_27)"
   ]
  },
  {
   "cell_type": "markdown",
   "id": "14853938",
   "metadata": {},
   "source": [
    "The same process will be applied to the `weather_df` dataframe to ensure consistency across both dataframes."
   ]
  },
  {
   "cell_type": "code",
   "execution_count": 183,
   "id": "0538cde5",
   "metadata": {},
   "outputs": [
    {
     "name": "stdout",
     "output_type": "stream",
     "text": [
      "March 31 timestamps:\n",
      "shape: (3, 1)\n",
      "┌─────────────────────┐\n",
      "│ date                │\n",
      "│ ---                 │\n",
      "│ datetime[ms]        │\n",
      "╞═════════════════════╡\n",
      "│ 2019-03-31 01:00:00 │\n",
      "│ 2019-03-31 02:00:00 │\n",
      "│ 2019-03-31 03:00:00 │\n",
      "└─────────────────────┘\n",
      "\n",
      "October 27 timestamps:\n",
      "shape: (3, 1)\n",
      "┌─────────────────────┐\n",
      "│ date                │\n",
      "│ ---                 │\n",
      "│ datetime[ms]        │\n",
      "╞═════════════════════╡\n",
      "│ 2019-10-27 01:00:00 │\n",
      "│ 2019-10-27 02:00:00 │\n",
      "│ 2019-10-27 03:00:00 │\n",
      "└─────────────────────┘\n"
     ]
    }
   ],
   "source": [
    "# Add row for 02:00 on March 31\n",
    "prev_hour = weather_df.filter(pl.col(\"date\") == pl.datetime(2019, 3, 31, 1, 0, 0))\n",
    "next_hour = weather_df.filter(pl.col(\"date\") == pl.datetime(2019, 3, 31, 3, 0, 0))\n",
    "\n",
    "numeric_cols = [c for c in weather_df.columns if c != \"date\"]\n",
    "avg_values = (prev_hour.select(numeric_cols) + next_hour.select(numeric_cols)) / 2\n",
    "\n",
    "avg_row = avg_values.with_columns(\n",
    "    pl.lit(datetime(2019, 3, 31, 2, 0, 0), dtype=pl.Datetime(\"ms\")).alias(\"date\")\n",
    ")\n",
    "\n",
    "avg_row = avg_row.select(weather_df.columns)\n",
    "\n",
    "weather_df = pl.concat([weather_df, avg_row], how=\"vertical\").sort(\"date\")\n",
    "\n",
    "march_31 = weather_df.filter(\n",
    "    (pl.col(\"date\").dt.date() == pl.date(2019, 3, 31)) &\n",
    "    (pl.col(\"date\").dt.hour().is_between(1, 3))\n",
    ").select(\"date\")\n",
    "\n",
    "print(\"March 31 timestamps:\")\n",
    "print(march_31)\n",
    "\n",
    "# Calculate the average for October 27 at 2:00 AM \n",
    "oct_27_2am = weather_df.filter(\n",
    "    (pl.col(\"date\").dt.date() == pl.date(2019, 10, 27)) &\n",
    "    (pl.col(\"date\").dt.hour() == 2)\n",
    ")\n",
    "\n",
    "numeric_cols = [c for c in weather_df.columns if c != \"date\"]\n",
    "avg_values = oct_27_2am.select(numeric_cols).mean()\n",
    "\n",
    "dt_oct = datetime(2019, 10, 27, 2, 0, 0)\n",
    "avg_row_oct = avg_values.with_columns(\n",
    "    pl.lit(dt_oct, dtype=pl.Datetime(\"ms\")).alias(\"date\")\n",
    ")\n",
    "\n",
    "avg_row_oct = avg_row_oct.select(weather_df.columns)\n",
    "\n",
    "weather_df = weather_df.filter(~(\n",
    "    (pl.col(\"date\").dt.date() == pl.date(2019, 10, 27)) &\n",
    "    (pl.col(\"date\").dt.hour() == 2)\n",
    "))\n",
    "weather_df = pl.concat([weather_df, avg_row_oct], how=\"vertical\").sort(\"date\")\n",
    "\n",
    "oct_27 = weather_df.filter(\n",
    "    (pl.col(\"date\").dt.date() == pl.date(2019, 10, 27)) &\n",
    "    (pl.col(\"date\").dt.hour().is_between(1, 3))\n",
    ").select(\"date\")\n",
    "\n",
    "print(\"\\nOctober 27 timestamps:\")\n",
    "print(oct_27)"
   ]
  },
  {
   "cell_type": "markdown",
   "id": "87e84f7f",
   "metadata": {},
   "source": [
    "At this point, it is more convenient to merge the three dataframes into a single one. The desired final structure is a dataframe with the following columns:\n",
    "\n",
    "- `date`: the hourly timestamp of the observation (of type `Datetime`).\n",
    "- `customer`: the customer identifier (of type `String`).\n",
    "- `activity`: the customer profile (of type `String`).\n",
    "- `consumption`: the energy consumption for that hour (of type `Float64`).\n",
    "- `temperature`: the temperature for that hour (of type `Float64`).\n",
    "\n",
    "First, an unpivot operation will be performed on the `consumption_df` and `weather_df` dataframes to transform them into a long format, where each row corresponds to a single observation for a specific customer at a specific time."
   ]
  },
  {
   "cell_type": "code",
   "execution_count": 184,
   "id": "461a6034",
   "metadata": {},
   "outputs": [
    {
     "name": "stdout",
     "output_type": "stream",
     "text": [
      "First 5 rows of consumption_long:\n",
      "shape: (5, 3)\n",
      "┌─────────────────────┬──────────────────────────┬─────────────┐\n",
      "│ date                ┆ customer                 ┆ consumption │\n",
      "│ ---                 ┆ ---                      ┆ ---         │\n",
      "│ datetime[ms]        ┆ str                      ┆ f64         │\n",
      "╞═════════════════════╪══════════════════════════╪═════════════╡\n",
      "│ 2019-01-01 00:00:00 ┆ 5d6fcd1cf44b0324bc6b7254 ┆ 0.039       │\n",
      "│ 2019-01-01 01:00:00 ┆ 5d6fcd1cf44b0324bc6b7254 ┆ 0.269       │\n",
      "│ 2019-01-01 02:00:00 ┆ 5d6fcd1cf44b0324bc6b7254 ┆ 0.331       │\n",
      "│ 2019-01-01 03:00:00 ┆ 5d6fcd1cf44b0324bc6b7254 ┆ 0.093       │\n",
      "│ 2019-01-01 04:00:00 ┆ 5d6fcd1cf44b0324bc6b7254 ┆ 0.116       │\n",
      "└─────────────────────┴──────────────────────────┴─────────────┘\n",
      "First 5 rows of temperature_long:\n",
      "shape: (5, 3)\n",
      "┌─────────────────────┬──────────────────────────┬─────────────┐\n",
      "│ date                ┆ customer                 ┆ temperature │\n",
      "│ ---                 ┆ ---                      ┆ ---         │\n",
      "│ datetime[ms]        ┆ str                      ┆ f64         │\n",
      "╞═════════════════════╪══════════════════════════╪═════════════╡\n",
      "│ 2019-01-01 00:00:00 ┆ 5d6fcd1cf44b0324bc6b7254 ┆ 10.31       │\n",
      "│ 2019-01-01 01:00:00 ┆ 5d6fcd1cf44b0324bc6b7254 ┆ 10.34       │\n",
      "│ 2019-01-01 02:00:00 ┆ 5d6fcd1cf44b0324bc6b7254 ┆ 10.36       │\n",
      "│ 2019-01-01 03:00:00 ┆ 5d6fcd1cf44b0324bc6b7254 ┆ 10.39       │\n",
      "│ 2019-01-01 04:00:00 ┆ 5d6fcd1cf44b0324bc6b7254 ┆ 10.27       │\n",
      "└─────────────────────┴──────────────────────────┴─────────────┘\n"
     ]
    }
   ],
   "source": [
    "consumption_long = consumption_df.unpivot(\n",
    "    index=[\"date\"],\n",
    "    variable_name=\"customer\",\n",
    "    value_name=\"consumption\"\n",
    ").with_columns(\n",
    "    pl.col(\"consumption\").cast(pl.Float64)\n",
    ")\n",
    "\n",
    "print(\"First 5 rows of consumption_long:\")\n",
    "print(consumption_long.head(5))\n",
    "\n",
    "temperature_long = weather_df.unpivot(\n",
    "    index=[\"date\"],\n",
    "    variable_name=\"customer\",\n",
    "    value_name=\"temperature\"\n",
    ").with_columns(\n",
    "    pl.col(\"temperature\").cast(pl.Float64)\n",
    ")\n",
    "\n",
    "print(\"First 5 rows of temperature_long:\")\n",
    "print(temperature_long.head(5))"
   ]
  },
  {
   "cell_type": "markdown",
   "id": "ead12b08",
   "metadata": {},
   "source": [
    "Now that the dataframes are in the desired format, `consumption_long` and `temperature_long` can be merged into a single dataframe, using the `date` and `customer` columns as keys. The `activity` column will be added from the `profiles_df` dataframe by performing a left join on the `customer` column."
   ]
  },
  {
   "cell_type": "code",
   "execution_count": 185,
   "id": "442ecacc",
   "metadata": {},
   "outputs": [
    {
     "name": "stdout",
     "output_type": "stream",
     "text": [
      "First 5 rows of the merged dataframe:\n"
     ]
    },
    {
     "data": {
      "text/html": [
       "<div><style>\n",
       ".dataframe > thead > tr,\n",
       ".dataframe > tbody > tr {\n",
       "  text-align: right;\n",
       "  white-space: pre-wrap;\n",
       "}\n",
       "</style>\n",
       "<small>shape: (5, 5)</small><table border=\"1\" class=\"dataframe\"><thead><tr><th>date</th><th>customer</th><th>activity</th><th>consumption</th><th>temperature</th></tr><tr><td>datetime[ms]</td><td>str</td><td>str</td><td>f64</td><td>f64</td></tr></thead><tbody><tr><td>2019-01-01 00:00:00</td><td>&quot;5d6fcd1cf44b0324bc6b7254&quot;</td><td>&quot;Actividades de los hogares com…</td><td>0.039</td><td>10.31</td></tr><tr><td>2019-01-01 01:00:00</td><td>&quot;5d6fcd1cf44b0324bc6b7254&quot;</td><td>&quot;Actividades de los hogares com…</td><td>0.269</td><td>10.34</td></tr><tr><td>2019-01-01 02:00:00</td><td>&quot;5d6fcd1cf44b0324bc6b7254&quot;</td><td>&quot;Actividades de los hogares com…</td><td>0.331</td><td>10.36</td></tr><tr><td>2019-01-01 03:00:00</td><td>&quot;5d6fcd1cf44b0324bc6b7254&quot;</td><td>&quot;Actividades de los hogares com…</td><td>0.093</td><td>10.39</td></tr><tr><td>2019-01-01 04:00:00</td><td>&quot;5d6fcd1cf44b0324bc6b7254&quot;</td><td>&quot;Actividades de los hogares com…</td><td>0.116</td><td>10.27</td></tr></tbody></table></div>"
      ],
      "text/plain": [
       "shape: (5, 5)\n",
       "┌─────────────────────┬───────────────────────────┬────────────────────┬─────────────┬─────────────┐\n",
       "│ date                ┆ customer                  ┆ activity           ┆ consumption ┆ temperature │\n",
       "│ ---                 ┆ ---                       ┆ ---                ┆ ---         ┆ ---         │\n",
       "│ datetime[ms]        ┆ str                       ┆ str                ┆ f64         ┆ f64         │\n",
       "╞═════════════════════╪═══════════════════════════╪════════════════════╪═════════════╪═════════════╡\n",
       "│ 2019-01-01 00:00:00 ┆ 5d6fcd1cf44b0324bc6b7254  ┆ Actividades de los ┆ 0.039       ┆ 10.31       │\n",
       "│                     ┆                           ┆ hogares com…       ┆             ┆             │\n",
       "│ 2019-01-01 01:00:00 ┆ 5d6fcd1cf44b0324bc6b7254  ┆ Actividades de los ┆ 0.269       ┆ 10.34       │\n",
       "│                     ┆                           ┆ hogares com…       ┆             ┆             │\n",
       "│ 2019-01-01 02:00:00 ┆ 5d6fcd1cf44b0324bc6b7254  ┆ Actividades de los ┆ 0.331       ┆ 10.36       │\n",
       "│                     ┆                           ┆ hogares com…       ┆             ┆             │\n",
       "│ 2019-01-01 03:00:00 ┆ 5d6fcd1cf44b0324bc6b7254  ┆ Actividades de los ┆ 0.093       ┆ 10.39       │\n",
       "│                     ┆                           ┆ hogares com…       ┆             ┆             │\n",
       "│ 2019-01-01 04:00:00 ┆ 5d6fcd1cf44b0324bc6b7254  ┆ Actividades de los ┆ 0.116       ┆ 10.27       │\n",
       "│                     ┆                           ┆ hogares com…       ┆             ┆             │\n",
       "└─────────────────────┴───────────────────────────┴────────────────────┴─────────────┴─────────────┘"
      ]
     },
     "execution_count": 185,
     "metadata": {},
     "output_type": "execute_result"
    }
   ],
   "source": [
    "consumption_temperature = consumption_long.join(\n",
    "    temperature_long,\n",
    "    on=[\"date\", \"customer\"],\n",
    "    how=\"inner\"\n",
    ")\n",
    "\n",
    "df = consumption_temperature.join(\n",
    "    profiles_df,\n",
    "    on=\"customer\",\n",
    "    how=\"left\"\n",
    ").select(\n",
    "    \"date\",\n",
    "    \"customer\",\n",
    "    \"activity\",\n",
    "    \"consumption\",\n",
    "    \"temperature\"\n",
    ")\n",
    "\n",
    "print(\"First 5 rows of the merged dataframe:\")\n",
    "df.head(5)"
   ]
  },
  {
   "cell_type": "markdown",
   "id": "31865ffb",
   "metadata": {},
   "source": [
    "## Exploratory Analysis"
   ]
  }
 ],
 "metadata": {
  "kernelspec": {
   "display_name": ".venv",
   "language": "python",
   "name": "python3"
  },
  "language_info": {
   "codemirror_mode": {
    "name": "ipython",
    "version": 3
   },
   "file_extension": ".py",
   "mimetype": "text/x-python",
   "name": "python",
   "nbconvert_exporter": "python",
   "pygments_lexer": "ipython3",
   "version": "3.12.3"
  }
 },
 "nbformat": 4,
 "nbformat_minor": 5
}
